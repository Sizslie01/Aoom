{
 "cells": [
  {
   "cell_type": "code",
   "execution_count": 1,
   "id": "d6acde83-deb7-4f63-9517-fc0c96d8783c",
   "metadata": {
    "tags": []
   },
   "outputs": [],
   "source": [
    "from __future__ import absolute_import, division, print_function\n",
    "from builtins import *  # @UnusedWildImport\n",
    "\n",
    "from mcculw import ul\n",
    "from mcculw.enums import DigitalIODirection\n",
    "from mcculw.device_info import DaqDeviceInfo\n",
    "\n",
    "import numpy as np\n",
    "import pyvisa as visa \n",
    "import time as time"
   ]
  },
  {
   "cell_type": "code",
   "execution_count": 2,
   "id": "b6cdc6ef-0e7d-47d7-a506-e08b35981183",
   "metadata": {},
   "outputs": [],
   "source": [
    "try:\n",
    "    from console_examples_util import config_first_detected_device\n",
    "except ImportError:\n",
    "    from .console_examples_util import config_first_detected_device"
   ]
  },
  {
   "cell_type": "code",
   "execution_count": 5,
   "id": "bee810ac-8818-41d2-8830-78b0f8058053",
   "metadata": {},
   "outputs": [
    {
     "data": {
      "text/plain": [
       "<'USBInstrument'('USB0::0x1AB1::0x0E11::DP8D232100126::0::INSTR')>"
      ]
     },
     "execution_count": 5,
     "metadata": {},
     "output_type": "execute_result"
    }
   ],
   "source": [
    "# search all instrument and assign usb port for power supply #####\n",
    "rm = visa.ResourceManager() \n",
    "inst = rm.list_resources()\n",
    "power_supply = rm.open_resource(inst[0])\n",
    "inst\n",
    "power_supply"
   ]
  },
  {
   "cell_type": "code",
   "execution_count": 8,
   "id": "24d8d32e-0f31-43d3-96c4-a994a95ea37e",
   "metadata": {
    "tags": []
   },
   "outputs": [
    {
     "name": "stdout",
     "output_type": "stream",
     "text": [
      "\n",
      " Error: No DAQ devices found\n"
     ]
    },
    {
     "data": {
      "text/plain": [
       "16"
      ]
     },
     "execution_count": 8,
     "metadata": {},
     "output_type": "execute_result"
    }
   ],
   "source": [
    "# DAQ signal and Power Supply read ######\n",
    "#a=np.linspace(0,3,21)\n",
    "#power_supply.write(':OUTPut CH1, ON')\n",
    "\n",
    "def run_example():\n",
    "    # By default, the example detects and displays all available devices and\n",
    "    # selects the first device listed. Use the dev_id_list variable to filter\n",
    "    # detected devices by device ID (see UL documentation for device IDs).\n",
    "    # If use_device_detection is set to False, the board_num variable needs to\n",
    "    # match the desired board number configured with Instacal.\n",
    "    use_device_detection = True\n",
    "    dev_id_list = []\n",
    "    board_num = 0\n",
    "\n",
    "    try:\n",
    "        if use_device_detection:\n",
    "            config_first_detected_device(board_num, dev_id_list)\n",
    "\n",
    "        daq_dev_info = DaqDeviceInfo(board_num)\n",
    "        if not daq_dev_info.supports_digital_io:\n",
    "            raise Exception('Error: The DAQ device does not support '\n",
    "                            'digital I/O')\n",
    "\n",
    "        print('\\nActive DAQ device: ', daq_dev_info.product_name, ' (',\n",
    "              daq_dev_info.unique_id, ')\\n', sep='')\n",
    "\n",
    "        dio_info = daq_dev_info.get_dio_info()\n",
    "\n",
    "        # Find the first port that supports input, defaulting to None\n",
    "        # if one is not found.\n",
    "        port = next((port for port in dio_info.port_info if port.supports_output),\n",
    "                    None)\n",
    "        if not port:\n",
    "            raise Exception('Error: The DAQ device does not support '\n",
    "                            'digital output')\n",
    "\n",
    "        # If the port is configurable, configure it for output.\n",
    "        if port.is_port_configurable:\n",
    "            ul.d_config_port(board_num, port.type, DigitalIODirection.OUT)\n",
    "\n",
    "#         port_value = 0xFF\n",
    "\n",
    "#         print('Setting', port.type.name, 'to', port_value)\n",
    "\n",
    "#         # Output the value to the port\n",
    "#         ul.d_out(board_num, port.type, port_value)\n",
    "\n",
    "        bit_num = 2 #DIO chanel\n",
    "        bit_value = 0 #low0, high1\n",
    "        print('Setting', port.type.name, 'bit', bit_num, 'to', bit_value)\n",
    "\n",
    "        # Output the value to the bit\n",
    "        ul.d_bit_out(board_num, port.type, bit_num, bit_value)\n",
    "        \n",
    "         \n",
    "\n",
    "        bit_value = 1 #low0, high1\n",
    "\n",
    "        # Output the value to the bit\n",
    "        ul.d_bit_out(board_num, port.type, bit_num, bit_value)\n",
    "        time.sleep(0.1)\n",
    "        bit_value = 0 #low0, high1\n",
    "\n",
    "        # Output the value to the bit\n",
    "        ul.d_bit_out(board_num, port.type, bit_num, bit_value)\n",
    "\n",
    "        \n",
    "    except Exception as e:\n",
    "        print('\\n', e)\n",
    "    finally:\n",
    "        if use_device_detection:\n",
    "            ul.release_daq_device(board_num)\n",
    "\n",
    "a=np.linspace(0,3,21)\n",
    "power_supply.write(':OUTPut CH1, ON')\n",
    "if __name__ == '__main__':\n",
    "    run_example()\n",
    "    \n",
    "for i in range(len(a)):\n",
    "    power_supply.write(':APPLy CH1,10,' + str(a[i]))\n",
    "    #power_supply.write(':OUTPut CH1, ON')\n",
    "    time.sleep(0.001)\n",
    "# print(a[i])\n",
    "b=np.linspace(3,0,21)\n",
    "time.sleep(0.05) \n",
    "for i in range(len(b)):\n",
    "    power_supply.write(':APPLy CH1,10,' + str(b[i]))\n",
    "    #power_supply.write(':OUTPut CH1, ON')\n",
    "    time.sleep(0.001)\n",
    "power_supply.write(':APPLy CH1,10,' + str(0))\n",
    "time.sleep(5) \n",
    "power_supply.write(':APPL Ch1,0,0')\n",
    "power_supply.write(':OUTP CH1, OFF')"
   ]
  },
  {
   "cell_type": "code",
   "execution_count": 9,
   "id": "0c488034-6877-48c7-a282-ec9a8208b257",
   "metadata": {},
   "outputs": [
    {
     "data": {
      "text/plain": [
       "array([0.  , 0.15, 0.3 , 0.45, 0.6 , 0.75, 0.9 , 1.05, 1.2 , 1.35, 1.5 ,\n",
       "       1.65, 1.8 , 1.95, 2.1 , 2.25, 2.4 , 2.55, 2.7 , 2.85, 3.  ])"
      ]
     },
     "execution_count": 9,
     "metadata": {},
     "output_type": "execute_result"
    }
   ],
   "source": [
    "a"
   ]
  },
  {
   "cell_type": "code",
   "execution_count": null,
   "id": "511064b3-d7af-4aa6-bfae-a7c59f6e4991",
   "metadata": {},
   "outputs": [],
   "source": []
  }
 ],
 "metadata": {
  "kernelspec": {
   "display_name": "Python 3",
   "language": "python",
   "name": "python3"
  },
  "language_info": {
   "codemirror_mode": {
    "name": "ipython",
    "version": 3
   },
   "file_extension": ".py",
   "mimetype": "text/x-python",
   "name": "python",
   "nbconvert_exporter": "python",
   "pygments_lexer": "ipython3",
   "version": "3.8.8"
  }
 },
 "nbformat": 4,
 "nbformat_minor": 5
}
