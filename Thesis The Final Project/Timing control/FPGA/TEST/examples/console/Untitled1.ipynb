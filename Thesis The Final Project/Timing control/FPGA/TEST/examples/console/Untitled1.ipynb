{
 "cells": [
  {
   "cell_type": "code",
   "execution_count": 2,
   "id": "ec3d8ca3-7cee-4bb5-8768-8e23fa656320",
   "metadata": {},
   "outputs": [],
   "source": [
    "from __future__ import absolute_import, division, print_function\n",
    "from builtins import *  # @UnusedWildImport\n",
    "\n",
    "from mcculw import ul\n",
    "from mcculw.enums import DigitalIODirection, ScanOptions, Status, FunctionType, BoardInfo\n",
    "from mcculw.device_info import DaqDeviceInfo\n",
    "\n",
    "from ctypes import cast, POINTER, c_ushort\n",
    "from math import pi, sin, exp\n",
    "from time import *\n",
    "from scipy import signal      \n",
    "\n",
    "import numpy as np\n",
    "import pyvisa as visa \n",
    "import matplotlib.pyplot as plt \n",
    "import pandas as pd"
   ]
  },
  {
   "cell_type": "code",
   "execution_count": 3,
   "id": "86c85525-4516-4fa9-a538-2e72422e9be3",
   "metadata": {},
   "outputs": [],
   "source": [
    "try:\n",
    "    from console_examples_util import config_first_detected_device\n",
    "except ImportError:\n",
    "    from .console_examples_util import config_first_detected_device"
   ]
  },
  {
   "cell_type": "code",
   "execution_count": 4,
   "id": "1b094e80-382a-491e-b4fd-fd5bd72f0440",
   "metadata": {},
   "outputs": [],
   "source": [
    "#calculate rate and insert cycle time of scan data\n",
    "#initial function for start up value set to zero in form of dataframe\n",
    "def Data_initial():\n",
    "    global dataframe_data, points_per_channel, ao_range, board_num, low_chan, high_chan, num_chans, memhandle, ao_info, total_count, rate\n",
    "    \n",
    "    #Initail calculation data\n",
    "    ####################################################\n",
    "    rate = 500000\n",
    "    points_per_channel = int(rate*times)\n",
    "    ####################################################\n",
    "    \n",
    "    #Board initail info\n",
    "    ####################################################\n",
    "    dev_id_list = []\n",
    "    board_num = 0\n",
    "    memhandle = None\n",
    "    config_first_detected_device(board_num, dev_id_list)\n",
    "    daq_dev_info = DaqDeviceInfo(board_num)\n",
    "    ao_info = daq_dev_info.get_ao_info()\n",
    "    ao_range = ao_info.supported_ranges[0]\n",
    "    low_chan = 0\n",
    "    high_chan = min(3, ao_info.num_chans - 1)\n",
    "    num_chans = high_chan - low_chan + 1\n",
    "    total_count = points_per_channel * num_chans\n",
    "    memhandle = ul.win_buf_alloc(total_count)\n",
    "    ####################################################\n",
    "    \n",
    "    dataframe_data = pd.DataFrame({'AO0':np.zeros(points_per_channel), 'AO1':np.zeros(points_per_channel), 'AO2':np.zeros(points_per_channel), 'AO3':np.zeros(points_per_channel)})"
   ]
  },
  {
   "cell_type": "code",
   "execution_count": 98,
   "id": "1d3e7691-2876-4138-9ed4-f87bd0f8c6a1",
   "metadata": {},
   "outputs": [],
   "source": [
    "def Set(end_time, next_value, dataframe_data_set):\n",
    "    global start_time, start_value\n",
    "    start_point = round((points_per_channel*(start_time))/times)\n",
    "    end_point = round((points_per_channel*(end_time))/times)\n",
    "    data_point=-start_point+end_point\n",
    "    \n",
    "    if start_point != 0:\n",
    "        start_value = round(dataframe_data_set[start_point-1])\n",
    "    else:\n",
    "        start_value = 0\n",
    "\n",
    "    start_time = end_time\n",
    "    \n",
    "    \n",
    "    \n",
    "    if start_value == next_value:\n",
    "        data_ramp = next_value*np.ones(data_point+1)\n",
    "    else :\n",
    "        data_ramp = np.linspace(start_value, next_value, data_point+1)\n",
    "        \n",
    "    print(start_point, end_point, start_value, next_value,data_ramp)  \n",
    "    j=0\n",
    "    for i in range(start_point,end_point+1,1):\n",
    "        dataframe_data_set[i]=data_ramp[j]\n",
    "        j+=1\n",
    "    return dataframe_data , start_time , start_value"
   ]
  },
  {
   "cell_type": "code",
   "execution_count": 99,
   "id": "7ebc8dd1-1e21-492b-a3bb-e51605663cd7",
   "metadata": {},
   "outputs": [],
   "source": [
    "def Analog_output_3():\n",
    "    global start_time, start_value\n",
    "    start_time = 0.0\n",
    "    Set(0.1,3,dataframe_data.AO3)\n",
    "    Set(0.200000,0,dataframe_data.AO3)\n",
    "    Set(0.200002,4,dataframe_data.AO3)\n",
    "    # Set(0.600004,5,dataframe_data.AO3)\n",
    "    # Set(0.600006,6,dataframe_data.AO3)\n",
    "    plt.plot(dataframe_data.AO3,color='purple')\n",
    "    return dataframe_data.AO3\n"
   ]
  },
  {
   "cell_type": "code",
   "execution_count": 100,
   "id": "9ec0a948-c22b-4164-840f-08c093a11e6d",
   "metadata": {},
   "outputs": [
    {
     "name": "stdout",
     "output_type": "stream",
     "text": [
      "Found 1 DAQ device(s):\n",
      "  USB-1208HS-4AO (206B1F2) - Device ID = 198\n"
     ]
    }
   ],
   "source": [
    "times=1\n",
    "Data_initial()"
   ]
  },
  {
   "cell_type": "code",
   "execution_count": 101,
   "id": "03f2ef1d-2ef8-4c63-a1a2-1657c434a4fa",
   "metadata": {},
   "outputs": [
    {
     "data": {
      "text/plain": [
       "array([0])"
      ]
     },
     "execution_count": 101,
     "metadata": {},
     "output_type": "execute_result"
    }
   ],
   "source": [
    "b=np.arange(0,4,4)\n",
    "b"
   ]
  },
  {
   "cell_type": "code",
   "execution_count": 102,
   "id": "1b5cc57e-3a81-4373-9f3e-fd8c985bb04b",
   "metadata": {},
   "outputs": [
    {
     "name": "stdout",
     "output_type": "stream",
     "text": [
      "0 50000 0 3 [0.00000e+00 6.00000e-05 1.20000e-04 ... 2.99988e+00 2.99994e+00\n",
      " 3.00000e+00]\n",
      "50000 100000 3 0 [3.00000e+00 2.99994e+00 2.99988e+00 ... 1.20000e-04 6.00000e-05\n",
      " 0.00000e+00]\n",
      "100000 100001 0 4 [0. 4.]\n",
      "0 50000 0 3 [0.00000e+00 6.00000e-05 1.20000e-04 ... 2.99988e+00 2.99994e+00\n",
      " 3.00000e+00]\n",
      "50000 100000 3 0 [3.00000e+00 2.99994e+00 2.99988e+00 ... 1.20000e-04 6.00000e-05\n",
      " 0.00000e+00]\n",
      "100000 100001 0 4 [0. 4.]\n"
     ]
    },
    {
     "data": {
      "image/png": "[encoded data removed]",
      "text/plain": [
       "<Figure size 432x288 with 1 Axes>"
      ]
     },
     "metadata": {
      "needs_background": "light"
     },
     "output_type": "display_data"
    }
   ],
   "source": [
    "Analog_output_3()\n",
    "a=np.array(Analog_output_3())"
   ]
  },
  {
   "cell_type": "code",
   "execution_count": 84,
   "id": "b8fbf0c6-4e12-42a6-af7e-0f69fedb260b",
   "metadata": {},
   "outputs": [
    {
     "data": {
      "text/plain": [
       "0.0"
      ]
     },
     "execution_count": 84,
     "metadata": {},
     "output_type": "execute_result"
    }
   ],
   "source": [
    "a[300001]"
   ]
  },
  {
   "cell_type": "code",
   "execution_count": null,
   "id": "4fcc691f-cb63-4c33-a9e3-215d1a3574f3",
   "metadata": {},
   "outputs": [],
   "source": []
  },
  {
   "cell_type": "code",
   "execution_count": null,
   "id": "952d0b67-7e5b-4f2b-9ba5-90102c03bde3",
   "metadata": {},
   "outputs": [],
   "source": []
  }
 ],
 "metadata": {
  "kernelspec": {
   "display_name": "Python 3 (ipykernel)",
   "language": "python",
   "name": "python3"
  },
  "language_info": {
   "codemirror_mode": {
    "name": "ipython",
    "version": 3
   },
   "file_extension": ".py",
   "mimetype": "text/x-python",
   "name": "python",
   "nbconvert_exporter": "python",
   "pygments_lexer": "ipython3",
   "version": "3.9.7"
  }
 },
 "nbformat": 4,
 "nbformat_minor": 5
}
