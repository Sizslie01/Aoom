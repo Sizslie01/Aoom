{
 "cells": [
  {
   "cell_type": "code",
   "execution_count": 1,
   "id": "7abdf7fc-2e24-4b19-ae45-68832e7d7eee",
   "metadata": {},
   "outputs": [],
   "source": [
    "import numpy as np\n",
    "import pyvisa as visa \n",
    "import time as time"
   ]
  },
  {
   "cell_type": "code",
   "execution_count": 2,
   "id": "3f8ab135-3c53-49d5-ab9c-267815d7dbb3",
   "metadata": {},
   "outputs": [],
   "source": [
    "# clock set up\n",
    "def tic():\n",
    "    global startTime_for_tictoc\n",
    "    startTime_for_tictoc = time.time()\n",
    "    \n",
    "def toc():\n",
    "    if \"startTime_for_tictoc\" in globals():\n",
    "        print(\"Elapse time is\"+ str(time.time()-startTime_for_tictoc) +\"seconds\")\n",
    "    else:\n",
    "        print(\"Toc: start time not set\")"
   ]
  },
  {
   "cell_type": "code",
   "execution_count": 3,
   "id": "98a809a3-fb73-4022-a070-4ab0c66bb8e3",
   "metadata": {},
   "outputs": [
    {
     "data": {
      "text/plain": [
       "<'USBInstrument'('USB0::0x1AB1::0x0E11::DP8D232100126::0::INSTR')>"
      ]
     },
     "execution_count": 3,
     "metadata": {},
     "output_type": "execute_result"
    }
   ],
   "source": [
    "# search all instrument and assign usb port for power supply #####\n",
    "rm = visa.ResourceManager() \n",
    "inst = rm.list_resources()\n",
    "power_supply = rm.open_resource(inst[0])\n",
    "inst\n",
    "power_supply"
   ]
  },
  {
   "cell_type": "code",
   "execution_count": 7,
   "id": "3bd1cf19-693a-4064-84a8-193961326ad0",
   "metadata": {},
   "outputs": [
    {
     "name": "stdout",
     "output_type": "stream",
     "text": [
      "Elapse time is0.0seconds\n",
      "Elapse time is0.009973287582397461seconds\n",
      "Elapse time is0.024933815002441406seconds\n",
      "Elapse time is0.04058098793029785seconds\n",
      "Elapse time is0.05621027946472168seconds\n",
      "Elapse time is0.0716562271118164seconds\n",
      "Elapse time is0.08767008781433105seconds\n",
      "Elapse time is0.1036217212677002seconds\n",
      "Elapse time is0.11985158920288086seconds\n",
      "Elapse time is0.13555192947387695seconds\n",
      "Elapse time is0.1512463092803955seconds\n",
      "Elapse time is0.16644287109375seconds\n",
      "Elapse time is0.1818692684173584seconds\n",
      "Elapse time is0.19785571098327637seconds\n",
      "Elapse time is0.21335959434509277seconds\n",
      "Elapse time is0.22925734519958496seconds\n",
      "Elapse time is0.24492096900939941seconds\n",
      "Elapse time is0.2609868049621582seconds\n",
      "Elapse time is0.2766151428222656seconds\n",
      "Elapse time is0.29237794876098633seconds\n",
      "Elapse time is0.30757737159729004seconds\n",
      "Elapse time is0.32339930534362793seconds\n",
      "Elapse time is0.33875274658203125seconds\n",
      "Elapse time is0.35472869873046875seconds\n",
      "Elapse time is0.3705868721008301seconds\n",
      "Elapse time is0.3860964775085449seconds\n",
      "Elapse time is0.40200066566467285seconds\n",
      "Elapse time is0.417499303817749seconds\n",
      "Elapse time is0.4335753917694092seconds\n",
      "Elapse time is0.4487760066986084seconds\n",
      "Elapse time is0.46424055099487305seconds\n",
      "Elapse time is0.48004746437072754seconds\n",
      "Elapse time is0.4955604076385498seconds\n",
      "Elapse time is0.5111055374145508seconds\n",
      "Elapse time is0.5272696018218994seconds\n",
      "Elapse time is0.5427525043487549seconds\n",
      "Elapse time is0.5585625171661377seconds\n",
      "Elapse time is0.5746607780456543seconds\n",
      "Elapse time is0.5906457901000977seconds\n",
      "Elapse time is0.6066684722900391seconds\n",
      "Elapse time is0.6224656105041504seconds\n",
      "Elapse time is0.6385815143585205seconds\n",
      "Elapse time is0.6541588306427002seconds\n",
      "Elapse time is5.665502309799194seconds\n"
     ]
    },
    {
     "data": {
      "text/plain": [
       "16"
      ]
     },
     "execution_count": 7,
     "metadata": {},
     "output_type": "execute_result"
    }
   ],
   "source": [
    "## ramping ##\n",
    "a=np.linspace(0,3,21)\n",
    "b=np.linspace(3,0,21)\n",
    "tic()\n",
    "power_supply.write(':APPLy CH1,10,' + str(1))\n",
    "power_supply.write(':OUTPut CH1, ON')\n",
    "toc()\n",
    "\n",
    "#ramp up\n",
    "for i in range(len(a)):\n",
    "    power_supply.write(':APPLy CH1,10,' + str(a[i]))\n",
    "    time.sleep(0.001)\n",
    "    toc()\n",
    "\n",
    "#ramp down\n",
    "for i in range(len(b)):\n",
    "    power_supply.write(':APPLy CH1,10,' + str(b[i]))\n",
    "    time.sleep(0.001)\n",
    "    toc()\n",
    "    \n",
    "power_supply.write(':APPLy CH1,10,' + str(0))\n",
    "time.sleep(5) \n",
    "power_supply.write(':APPL Ch1,0,0')\n",
    "toc()\n",
    "power_supply.write(':OUTP CH1, OFF')"
   ]
  },
  {
   "cell_type": "code",
   "execution_count": null,
   "id": "a660c65c-27bb-416e-b882-a3c677881c7a",
   "metadata": {},
   "outputs": [],
   "source": []
  }
 ],
 "metadata": {
  "kernelspec": {
   "display_name": "Python 3 (ipykernel)",
   "language": "python",
   "name": "python3"
  },
  "language_info": {
   "codemirror_mode": {
    "name": "ipython",
    "version": 3
   },
   "file_extension": ".py",
   "mimetype": "text/x-python",
   "name": "python",
   "nbconvert_exporter": "python",
   "pygments_lexer": "ipython3",
   "version": "3.9.13"
  }
 },
 "nbformat": 4,
 "nbformat_minor": 5
}
