{
 "cells": [
  {
   "cell_type": "code",
   "execution_count": 1,
   "id": "c1e95257-7a57-4714-ade4-d6f6f47b43b7",
   "metadata": {},
   "outputs": [],
   "source": [
    "from __future__ import absolute_import, division, print_function\n",
    "from builtins import *  # @UnusedWildImport\n",
    "\n",
    "from mcculw import ul\n",
    "from mcculw.enums import DigitalIODirection, ScanOptions, Status, FunctionType, BoardInfo\n",
    "from mcculw.device_info import DaqDeviceInfo\n",
    "import pyvisa as visa \n",
    "from ctypes import cast, POINTER, c_ushort"
   ]
  },
  {
   "cell_type": "code",
   "execution_count": 2,
   "id": "3955f499-25a6-4d25-b547-cb55e6fd9e5b",
   "metadata": {},
   "outputs": [],
   "source": [
    "from math import pi, sin, exp\n",
    "from time import *\n",
    "from scipy import signal      \n",
    "\n",
    "import numpy as np\n",
    "import matplotlib.pyplot as plt \n",
    "import pandas as pd"
   ]
  },
  {
   "cell_type": "code",
   "execution_count": 3,
   "id": "fc185400-60f4-404d-9d47-68b60c345217",
   "metadata": {},
   "outputs": [],
   "source": [
    "try:\n",
    "    from console_examples_util import config_first_detected_device\n",
    "except ImportError:\n",
    "    from .console_examples_util import config_first_detected_device"
   ]
  },
  {
   "cell_type": "code",
   "execution_count": 4,
   "id": "d0b911e7-b6e5-4d4f-9eda-3aae201436d2",
   "metadata": {},
   "outputs": [],
   "source": [
    "#calculate rate and insert cycle time of scan data\n",
    "#initial function for start up value set to zero in form of dataframe\n",
    "def Data_initial():\n",
    "    global dataframe_data, points_per_channel, ao_range, board_num, low_chan, high_chan, num_chans, memhandle, ao_info, total_count, rate\n",
    "    \n",
    "    #Initail calculation data\n",
    "    ####################################################\n",
    "    rate = 500000\n",
    "    points_per_channel = int(rate*times)\n",
    "    ####################################################\n",
    "    \n",
    "    #Board initail info\n",
    "    ####################################################\n",
    "    dev_id_list = []\n",
    "    board_num = 0\n",
    "    memhandle = None\n",
    "    config_first_detected_device(board_num, dev_id_list)\n",
    "    daq_dev_info = DaqDeviceInfo(board_num)\n",
    "    ao_info = daq_dev_info.get_ao_info()\n",
    "    ao_range = ao_info.supported_ranges[0]\n",
    "    low_chan = 0\n",
    "    high_chan = min(3, ao_info.num_chans - 1)\n",
    "    num_chans = high_chan - low_chan + 1\n",
    "    total_count = points_per_channel * num_chans\n",
    "    memhandle = ul.win_buf_alloc(total_count)\n",
    "    ####################################################\n",
    "    \n",
    "    dataframe_data = pd.DataFrame({'AO0':np.zeros(points_per_channel), 'AO1':np.zeros(points_per_channel), \n",
    "                                   'AO2':np.zeros(points_per_channel), 'AO3':np.zeros(points_per_channel)})"
   ]
  },
  {
   "cell_type": "code",
   "execution_count": 5,
   "id": "304b6e12-ec00-42de-b818-8ddb3e562585",
   "metadata": {
    "tags": []
   },
   "outputs": [],
   "source": [
    "#linear ramping output data\n",
    "#we have change data in range of dataframe.\n",
    "#insert dataframe in subset of dataframe form.\n",
    "#such as df.subset_of_dataframe\n",
    "\n",
    "\n",
    "def Set(end_time, next_value, dataframe_data_set):\n",
    "    global start_time, start_value\n",
    "    start_point = round((points_per_channel*(start_time))/times)\n",
    "    end_point = round((points_per_channel*(end_time))/times)\n",
    "    data_point=-start_point+end_point\n",
    "    \n",
    "    if start_point != 0:\n",
    "        start_value = round(dataframe_data_set[start_point-1])\n",
    "    else:\n",
    "        start_value = 0\n",
    "\n",
    "    start_time = end_time\n",
    "    # print(start_point, end_point, start_value, next_value,data_point)\n",
    "    if start_value == next_value:\n",
    "        data_ramp = next_value*np.ones(data_point)\n",
    "    else :\n",
    "        data_ramp = np.linspace(start_value, next_value, data_point)\n",
    "    dataframe_data_set[start_point:end_point]=data_ramp\n",
    "    return dataframe_data , start_time , start_value"
   ]
  },
  {
   "cell_type": "code",
   "execution_count": 6,
   "id": "cf05566c-f9f1-44c0-a6ef-961b76e0a2b8",
   "metadata": {
    "tags": []
   },
   "outputs": [],
   "source": [
    "#control the output data by using ramp function or another function\n",
    "def Analog_output_0(): #mot-loading\n",
    "    global start_time, start_value\n",
    "    start_time = 0.0\n",
    "    Set(mot_start_time,0,dataframe_data.AO0)\n",
    "    Set(mot_start_time+short_step_time,TTL_val,dataframe_data.AO0)\n",
    "    Set(mot_end_time,TTL_val,dataframe_data.AO0)\n",
    "    Set(mot_end_time+short_step_time,0,dataframe_data.AO0)\n",
    "    plt.plot(dataframe_data.AO0,color='red')\n",
    "    return dataframe_data.AO0\n",
    "\n",
    "def Analog_output_1(): #imaging beam\n",
    "    global start_time, start_value\n",
    "    start_time = 0.0\n",
    "    for i in range(num_img):\n",
    "        Set(img_start_time +i*img_wait ,0,dataframe_data.AO1)\n",
    "        Set(img_start_time+short_step_time+i*img_wait,TTL_val,dataframe_data.AO1)\n",
    "        Set(img_end_time+i*img_wait,TTL_val,dataframe_data.AO1)\n",
    "        Set(img_end_time+short_step_time+i*img_wait,0,dataframe_data.AO1)\n",
    "    plt.plot(dataframe_data.AO1,color='purple')\n",
    "    return dataframe_data.AO1\n",
    "def Analog_output_2(): #camera\n",
    "    global start_time, start_value\n",
    "    start_time = 0.0\n",
    "#     for i in range(num_img):\n",
    "#         Set(img_start_time +i*img_wait ,0,dataframe_data.AO2)\n",
    "#         Set(img_start_time+short_step_time+i*img_wait,TTL_val,dataframe_data.AO2)\n",
    "#         Set(img_end_time+i*img_wait,TTL_val,dataframe_data.AO2)\n",
    "#         Set(img_end_time+short_step_time+i*img_wait,0,dataframe_data.AO2)\n",
    "#     plt.plot(dataframe_data.AO2,color='blue')    \n",
    "    return dataframe_data.AO2\n",
    "\n",
    "def Analog_output_3():\n",
    "    global start_time, start_value\n",
    "    start_time = 0.0\n",
    "    # plt.plot(dataframe_data.AO3,color='purple')\n",
    "    return dataframe_data.AO3\n",
    "\n"
   ]
  },
  {
   "cell_type": "code",
   "execution_count": 7,
   "id": "70915ccb-86dc-4343-9eb3-72d1b72f5920",
   "metadata": {
    "tags": []
   },
   "outputs": [],
   "source": [
    "#convert every value in dataframe to 1D numpy array\n",
    "def Array_output_data():\n",
    "    array = np.transpose(np.array([Analog_output_0(),Analog_output_1(),Analog_output_2(),Analog_output_3()])).flatten()\n",
    "    return array"
   ]
  },
  {
   "cell_type": "code",
   "execution_count": 8,
   "id": "d1c2d026-5872-46ad-abe1-988451c594f7",
   "metadata": {},
   "outputs": [],
   "source": [
    "def save_data():\n",
    "    data_index = 0\n",
    "    ctypes_array = cast(memhandle, POINTER(c_ushort))\n",
    "    print('---------------Start saving data---------------')\n",
    "    for channel_num in range(num_chans):\n",
    "        for point_num in range(points_per_channel):\n",
    "            value = dataframe_array[data_index]\n",
    "            raw_value = ul.from_eng_units(board_num, ao_range, value)\n",
    "            ctypes_array[data_index] = raw_value\n",
    "            data_index += 1\n",
    "        print('Saving', ((channel_num+1)/4)*100 ,'% of data')\n",
    "    print('---------------Saving data complete---------------')\n",
    "    return"
   ]
  },
  {
   "cell_type": "code",
   "execution_count": 9,
   "id": "61ca88eb-24a2-48ab-bb1e-716ef938e084",
   "metadata": {
    "tags": []
   },
   "outputs": [],
   "source": [
    "def scan(scan_round):\n",
    "    for i in range(scan_round):\n",
    "        ul.a_out_scan(board_num, low_chan, high_chan, total_count, rate, ao_range, memhandle, ScanOptions.BACKGROUND)\n",
    "        print('Waiting for scan.', end='')\n",
    "        status = Status.RUNNING\n",
    "        while status != Status.IDLE:\n",
    "            print('.', end='')\n",
    "            # Slow down the status check so as not to flood the CPU\n",
    "            sleep(1)\n",
    "            status, _, _ = ul.get_status(board_num, FunctionType.AOFUNCTION)\n",
    "        print('')\n",
    "        print('Period',i+1,'complete')\n",
    "        sleep(1)"
   ]
  },
  {
   "cell_type": "code",
   "execution_count": 10,
   "id": "3e6e104d-71f1-44ae-a621-d61f90cd5bc1",
   "metadata": {},
   "outputs": [],
   "source": [
    "def Sequence_setting():\n",
    "    global mot_start_time, short_step_time\n",
    "    short_step_time = 0.000004\n",
    "    TTL_val=4\n",
    "    start_time=0\n",
    "    start_value=0\n",
    "    mot_start_time = 0.25\n",
    "    mot_dur=10\n",
    "    mot_end_time = mot_start_time + mot_dur\n",
    "    tof_time= 0.01\n",
    "    img_start_time = mot_end_time + tof_time\n",
    "    img_dur = 0.0001\n",
    "    img_end_time = img_start_time +img_dur\n",
    "    img_wait=0.25\n",
    "    # num_img=int(mot_end_time/img_wait+1)                     #For capture mot from start point to saturated of MOT\n",
    "    num_img=2#int(mot_end_time/img_wait+1)\n",
    "    times = mot_dur+1"
   ]
  },
  {
   "cell_type": "code",
   "execution_count": 52,
   "id": "58a97e10-ee39-4cbf-a9be-01a38ee56e9a",
   "metadata": {},
   "outputs": [],
   "source": [
    "start_time=0\n",
    "start_value=0\n",
    "mot_start_time = 0.25\n",
    "mot_dur=10\n",
    "mot_end_time = mot_start_time+mot_dur\n",
    "tof_time= 0.002\n",
    "img_start_time = mot_end_time+tof_time\n",
    "img_dur = 0.001\n",
    "img_end_time = img_start_time +img_dur\n",
    "img_wait=0.025\n",
    "num_img=2#int(mot_end_time/img_wait+1)\n",
    "times = mot_dur+1\n",
    "short_step_time = 0.000004\n",
    "TTL_val=4"
   ]
  },
  {
   "cell_type": "code",
   "execution_count": 53,
   "id": "fdf58783-173d-4539-823f-2069104d349d",
   "metadata": {},
   "outputs": [],
   "source": [
    "rate = 500000\n",
    "points_per_channel = int(rate*times)\n",
    "dataframe_data = pd.DataFrame({'AO0':np.zeros(points_per_channel), 'AO1':np.zeros(points_per_channel), \n",
    "                                   'AO2':np.zeros(points_per_channel), 'AO3':np.zeros(points_per_channel)})\n",
    "\n",
    "Set(mot_start_time,0,dataframe_data.AO0)\n",
    "Set(mot_start_time+short_step_time,TTL_val,dataframe_data.AO0)\n",
    "Set(mot_end_time,TTL_val,dataframe_data.AO0)\n",
    "Set(mot_end_time+short_step_time,0,dataframe_data.AO0)\n",
    "for i in range(num_img):\n",
    "    Set(img_start_time +i*img_wait ,0,dataframe_data.AO1)\n",
    "    Set(img_start_time+short_step_time+i*img_wait,TTL_val,dataframe_data.AO1)\n",
    "    Set(img_end_time+i*img_wait,TTL_val,dataframe_data.AO1)\n",
    "    Set(img_end_time+short_step_time+i*img_wait,0,dataframe_data.AO1)"
   ]
  },
  {
   "cell_type": "code",
   "execution_count": 60,
   "id": "3a094b4f-40ac-424a-bf93-515f301b4e94",
   "metadata": {},
   "outputs": [],
   "source": [
    "time_array = np.linspace(0,times,np.array(dataframe_data['AO0']).shape[0])\n"
   ]
  },
  {
   "cell_type": "code",
   "execution_count": 62,
   "id": "c2b70910-0c1d-4bd6-a1f6-37203da0601a",
   "metadata": {},
   "outputs": [
    {
     "data": {
      "text/plain": [
       "[<matplotlib.lines.Line2D at 0x24312a5ea90>]"
      ]
     },
     "execution_count": 62,
     "metadata": {},
     "output_type": "execute_result"
    },
    {
     "data": {
      "image/png": "[encoded data removed]",
      "text/plain": [
       "<Figure size 432x288 with 1 Axes>"
      ]
     },
     "metadata": {
      "needs_background": "light"
     },
     "output_type": "display_data"
    }
   ],
   "source": [
    "plt.plot(time_array,dataframe_data['AO0'])\n",
    "plt.plot(time_array,dataframe_data['AO1'])"
   ]
  },
  {
   "cell_type": "code",
   "execution_count": 51,
   "id": "c84dc0ff-9615-4387-8976-bda5aca61982",
   "metadata": {},
   "outputs": [
    {
     "data": {
      "text/plain": [
       "(5120000.0, 5130000.0)"
      ]
     },
     "execution_count": 51,
     "metadata": {},
     "output_type": "execute_result"
    },
    {
     "data": {
      "image/png": "[encoded data removed]",
      "text/plain": [
       "<Figure size 432x288 with 1 Axes>"
      ]
     },
     "metadata": {
      "needs_background": "light"
     },
     "output_type": "display_data"
    }
   ],
   "source": [
    "plt.plot(time_array,dataframe_data['AO0'])\n",
    "plt.plot(time_array,dataframe_data['AO1'])\n",
    "plt.xlim(5120000,5130000)"
   ]
  },
  {
   "cell_type": "code",
   "execution_count": 50,
   "id": "acd474b7-9ef4-42e9-ac33-d8b81d4b7ada",
   "metadata": {},
   "outputs": [
    {
     "name": "stdout",
     "output_type": "stream",
     "text": [
      "Found 1 DAQ device(s):\n",
      "  USB-1208HS-4AO (206B1F2) - Device ID = 198\n",
      "---------------Start saving data---------------\n",
      "Saving 25.0 % of data\n",
      "Saving 50.0 % of data\n",
      "Saving 75.0 % of data\n",
      "Saving 100.0 % of data\n",
      "---------------Saving data complete---------------\n",
      "Waiting for scan.............\n",
      "Period 1 complete\n",
      "Waiting for scan.............\n",
      "Period 2 complete\n",
      "Waiting for scan.............\n",
      "Period 3 complete\n",
      "Waiting for scan.............\n",
      "Period 4 complete\n",
      "Waiting for scan.............\n",
      "Period 5 complete\n",
      "Waiting for scan.............\n",
      "Period 6 complete\n",
      "Waiting for scan.............\n",
      "Period 7 complete\n",
      "Waiting for scan....."
     ]
    },
    {
     "ename": "KeyboardInterrupt",
     "evalue": "",
     "output_type": "error",
     "traceback": [
      "\u001b[1;31m---------------------------------------------------------------------------\u001b[0m",
      "\u001b[1;31mKeyboardInterrupt\u001b[0m                         Traceback (most recent call last)",
      "\u001b[1;32m<ipython-input-50-8195533bb666>\u001b[0m in \u001b[0;36m<module>\u001b[1;34m\u001b[0m\n\u001b[0;32m      2\u001b[0m \u001b[0mdataframe_array\u001b[0m \u001b[1;33m=\u001b[0m \u001b[0mArray_output_data\u001b[0m\u001b[1;33m(\u001b[0m\u001b[1;33m)\u001b[0m\u001b[1;33m\u001b[0m\u001b[1;33m\u001b[0m\u001b[0m\n\u001b[0;32m      3\u001b[0m \u001b[0msave_data\u001b[0m\u001b[1;33m(\u001b[0m\u001b[1;33m)\u001b[0m\u001b[1;33m\u001b[0m\u001b[1;33m\u001b[0m\u001b[0m\n\u001b[1;32m----> 4\u001b[1;33m \u001b[0mscan\u001b[0m\u001b[1;33m(\u001b[0m\u001b[1;36m10\u001b[0m\u001b[1;33m)\u001b[0m\u001b[1;33m\u001b[0m\u001b[1;33m\u001b[0m\u001b[0m\n\u001b[0m",
      "\u001b[1;32m<ipython-input-9-290bde406873>\u001b[0m in \u001b[0;36mscan\u001b[1;34m(scan_round)\u001b[0m\n\u001b[0;32m      7\u001b[0m             \u001b[0mprint\u001b[0m\u001b[1;33m(\u001b[0m\u001b[1;34m'.'\u001b[0m\u001b[1;33m,\u001b[0m \u001b[0mend\u001b[0m\u001b[1;33m=\u001b[0m\u001b[1;34m''\u001b[0m\u001b[1;33m)\u001b[0m\u001b[1;33m\u001b[0m\u001b[1;33m\u001b[0m\u001b[0m\n\u001b[0;32m      8\u001b[0m             \u001b[1;31m# Slow down the status check so as not to flood the CPU\u001b[0m\u001b[1;33m\u001b[0m\u001b[1;33m\u001b[0m\u001b[1;33m\u001b[0m\u001b[0m\n\u001b[1;32m----> 9\u001b[1;33m             \u001b[0msleep\u001b[0m\u001b[1;33m(\u001b[0m\u001b[1;36m1\u001b[0m\u001b[1;33m)\u001b[0m\u001b[1;33m\u001b[0m\u001b[1;33m\u001b[0m\u001b[0m\n\u001b[0m\u001b[0;32m     10\u001b[0m             \u001b[0mstatus\u001b[0m\u001b[1;33m,\u001b[0m \u001b[0m_\u001b[0m\u001b[1;33m,\u001b[0m \u001b[0m_\u001b[0m \u001b[1;33m=\u001b[0m \u001b[0mul\u001b[0m\u001b[1;33m.\u001b[0m\u001b[0mget_status\u001b[0m\u001b[1;33m(\u001b[0m\u001b[0mboard_num\u001b[0m\u001b[1;33m,\u001b[0m \u001b[0mFunctionType\u001b[0m\u001b[1;33m.\u001b[0m\u001b[0mAOFUNCTION\u001b[0m\u001b[1;33m)\u001b[0m\u001b[1;33m\u001b[0m\u001b[1;33m\u001b[0m\u001b[0m\n\u001b[0;32m     11\u001b[0m         \u001b[0mprint\u001b[0m\u001b[1;33m(\u001b[0m\u001b[1;34m''\u001b[0m\u001b[1;33m)\u001b[0m\u001b[1;33m\u001b[0m\u001b[1;33m\u001b[0m\u001b[0m\n",
      "\u001b[1;31mKeyboardInterrupt\u001b[0m: "
     ]
    },
    {
     "data": {
      "image/png": "[encoded data removed]",
      "text/plain": [
       "<Figure size 432x288 with 1 Axes>"
      ]
     },
     "metadata": {
      "needs_background": "light"
     },
     "output_type": "display_data"
    }
   ],
   "source": [
    "Data_initial()\n",
    "dataframe_array = Array_output_data()\n",
    "save_data()\n",
    "scan(10)"
   ]
  },
  {
   "cell_type": "code",
   "execution_count": 51,
   "id": "7534f836-87eb-4be3-a86f-be415f1d67d5",
   "metadata": {},
   "outputs": [
    {
     "name": "stdout",
     "output_type": "stream",
     "text": [
      "Waiting for scan.............\n",
      "Period 1 complete\n",
      "Waiting for scan.............\n",
      "Period 2 complete\n",
      "Waiting for scan.............\n",
      "Period 3 complete\n",
      "Waiting for scan.............\n",
      "Period 4 complete\n",
      "Waiting for scan.............\n",
      "Period 5 complete\n"
     ]
    }
   ],
   "source": [
    "scan(5)"
   ]
  },
  {
   "cell_type": "code",
   "execution_count": null,
   "id": "47e5b0ce-ee6a-425d-aedd-c450ecda9725",
   "metadata": {},
   "outputs": [],
   "source": []
  }
 ],
 "metadata": {
  "kernelspec": {
   "display_name": "Python 3",
   "language": "python",
   "name": "python3"
  },
  "language_info": {
   "codemirror_mode": {
    "name": "ipython",
    "version": 3
   },
   "file_extension": ".py",
   "mimetype": "text/x-python",
   "name": "python",
   "nbconvert_exporter": "python",
   "pygments_lexer": "ipython3",
   "version": "3.8.8"
  }
 },
 "nbformat": 4,
 "nbformat_minor": 5
}
