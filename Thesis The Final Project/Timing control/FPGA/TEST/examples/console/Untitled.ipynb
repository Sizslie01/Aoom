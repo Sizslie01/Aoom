{
 "cells": [
  {
   "cell_type": "code",
   "execution_count": 2,
   "id": "f6cb3e78-5d6b-4cb2-b61f-cd77e1d8219a",
   "metadata": {},
   "outputs": [],
   "source": [
    "def __init__(self, master=None):\n",
    "        super(DaqOutScan01, self).__init__(master)\n",
    "        # By default, the example detects all available devices and selects the\n",
    "        # first device listed.\n",
    "        # If use_device_detection is set to False, the board_num property needs\n",
    "        # to match the desired board number configured with Instacal.\n",
    "        use_device_detection = True\n",
    "        self.board_num = 0\n",
    "        self.num_chans = 2\n",
    "        self.chan_list = []\n",
    "        self.chan_type_list = []\n",
    "        self.gain_list = []\n",
    "        try:\n",
    "            if use_device_detection:\n",
    "                self.configure_first_detected_device()\n",
    "\n",
    "            self.device_info = DaqDeviceInfo(self.board_num)\n",
    "            if self.device_info.supports_daq_output:\n",
    "                self.ao_info = self.device_info.get_ao_info()\n",
    "                self.init_scan_channel_info()\n",
    "                self.create_widgets()\n",
    "            else:\n",
    "                self.create_unsupported_widgets()\n",
    "        except ULError:\n",
    "            self.create_unsupported_widgets(True)"
   ]
  },
  {
   "cell_type": "code",
   "execution_count": null,
   "id": "d78a95cd-664f-4551-99ff-db2589ff0888",
   "metadata": {},
   "outputs": [],
   "source": []
  }
 ],
 "metadata": {
  "kernelspec": {
   "display_name": "Python 3",
   "language": "python",
   "name": "python3"
  },
  "language_info": {
   "codemirror_mode": {
    "name": "ipython",
    "version": 3
   },
   "file_extension": ".py",
   "mimetype": "text/x-python",
   "name": "python",
   "nbconvert_exporter": "python",
   "pygments_lexer": "ipython3",
   "version": "3.8.8"
  }
 },
 "nbformat": 4,
 "nbformat_minor": 5
}
