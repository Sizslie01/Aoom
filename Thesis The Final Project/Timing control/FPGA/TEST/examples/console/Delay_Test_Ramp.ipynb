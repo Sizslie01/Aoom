{
 "cells": [
  {
   "cell_type": "code",
   "execution_count": 35,
   "id": "67f2989a-8132-41c1-859e-34cd835f77e0",
   "metadata": {},
   "outputs": [],
   "source": [
    "import numpy as np\n",
    "import pyvisa as visa \n",
    "import time as time"
   ]
  },
  {
   "cell_type": "code",
   "execution_count": 36,
   "id": "cbd23a62-24cc-4128-bc2b-f40840583128",
   "metadata": {},
   "outputs": [
    {
     "data": {
      "text/plain": [
       "<'USBInstrument'('USB0::0x1AB1::0x0E11::DP8D232100126::0::INSTR')>"
      ]
     },
     "execution_count": 36,
     "metadata": {},
     "output_type": "execute_result"
    }
   ],
   "source": [
    "# search all instrument and assign usb port for power supply #####\n",
    "rm = visa.ResourceManager() \n",
    "inst = rm.list_resources()\n",
    "power_supply = rm.open_resource(inst[0])\n",
    "inst\n",
    "power_supply"
   ]
  },
  {
   "cell_type": "code",
   "execution_count": 79,
   "id": "945dad7c-0a33-4a4d-ac17-1a68efacb6af",
   "metadata": {},
   "outputs": [
    {
     "data": {
      "text/plain": [
       "18"
      ]
     },
     "execution_count": 79,
     "metadata": {},
     "output_type": "execute_result"
    }
   ],
   "source": [
    "## Store data and load ##\n",
    "# Store Data #\n",
    "a=np.linspace(1,10,10)\n",
    "b=np.linspace(0,1,10)\n",
    "\n",
    "power_supply.write(':OUTPut CH1, ON')\n",
    "for i in range(0,10,1):\n",
    "    power_supply.write(':APPLy CH1,1,'+ str(b[i])) #set state (range,voltage,current)\n",
    "    time.sleep(1)\n",
    "    power_supply.write(':MEM:STOR RSF,'+ str(int(a[i]))) #store state at location 1\n",
    "    time.sleep(1)\n",
    "\n",
    "power_supply.write(':OUTPut CH1, OFF') #safety"
   ]
  },
  {
   "cell_type": "code",
   "execution_count": 94,
   "id": "582de479-a054-43ef-b4d5-539bb1573110",
   "metadata": {},
   "outputs": [
    {
     "data": {
      "text/plain": [
       "18"
      ]
     },
     "execution_count": 94,
     "metadata": {},
     "output_type": "execute_result"
    }
   ],
   "source": [
    "# load Data #\n",
    "power_supply.write(':MEM:LOAD RSF,'+ str(int(a[0])))\n",
    "power_supply.write(':OUTPut CH1, ON')\n",
    "for i in range(1,10,1):\n",
    "    time.sleep(1)\n",
    "    power_supply.write(':MEM:LOAD RSF,'+ str(int(a[i]))) #load state \n",
    "#     power_supply.write(':RECA:LOC,'+ str(int(a[i]))) #load state\n",
    "    power_supply.write(':OUTPut CH1, ON')\n",
    "time.sleep(1)\n",
    "power_supply.write(':OUTPut CH1, OFF')"
   ]
  },
  {
   "cell_type": "code",
   "execution_count": 88,
   "id": "e37b56df-28a8-4c45-a0f9-7ff2c0121de5",
   "metadata": {},
   "outputs": [
    {
     "data": {
      "text/plain": [
       "'2'"
      ]
     },
     "execution_count": 88,
     "metadata": {},
     "output_type": "execute_result"
    }
   ],
   "source": [
    "str(int(a[1]))"
   ]
  },
  {
   "cell_type": "code",
   "execution_count": 40,
   "id": "c66eea0a-f256-447d-b624-30279a1c77bc",
   "metadata": {},
   "outputs": [
    {
     "data": {
      "text/plain": [
       "16"
      ]
     },
     "execution_count": 40,
     "metadata": {},
     "output_type": "execute_result"
    }
   ],
   "source": [
    "## Timer set ##\n",
    "a=np.linspace(0,3,11)\n",
    "power_supply.write(':OUTPut CH1, ON')\n",
    "for i in range(len(a)):\n",
    "    power_supply.write(':APPLy CH1,10,' + str(a[i]))\n",
    "    #power_supply.write(':OUTPut CH1, ON')\n",
    "    time.sleep(0.01)\n",
    "# print(a[i])\n",
    "b=np.linspace(3,0,11)\n",
    "#time.sleep(0.05) \n",
    "for i in range(len(b)):\n",
    "    power_supply.write(':APPLy CH1,10,' + str(b[i]))\n",
    "#     power_supply.write(':OUTPut CH1, ON')\n",
    "    #time.sleep(0.001)\n",
    "power_supply.write(':APPLy CH1,10,' + str(0))\n",
    "#time.sleep(0.1) \n",
    "power_supply.write(':APPL Ch1,0,0')\n",
    "power_supply.write(':OUTP CH1, OFF')"
   ]
  },
  {
   "cell_type": "code",
   "execution_count": 55,
   "id": "df3d3a36-f43a-4815-b3f1-d7abeff2fdd4",
   "metadata": {},
   "outputs": [
    {
     "data": {
      "text/plain": [
       "16"
      ]
     },
     "execution_count": 55,
     "metadata": {},
     "output_type": "execute_result"
    }
   ],
   "source": [
    "power_supply.write(':OUTPut CH1, ON')\n",
    "power_supply.write(':APPL Ch1,10,0.5')\n",
    "power_supply.write(':MEM:STOR RSF,2')\n",
    "power_supply.write(':OUTP CH1, OFF')"
   ]
  },
  {
   "cell_type": "code",
   "execution_count": 96,
   "id": "c7bbfe87-c087-4617-857c-6bc06755b1be",
   "metadata": {},
   "outputs": [
    {
     "data": {
      "text/plain": [
       "17"
      ]
     },
     "execution_count": 96,
     "metadata": {},
     "output_type": "execute_result"
    }
   ],
   "source": [
    "power_supply.write(':MEM:LOAD RSF,3')\n",
    "power_supply.write(':OUTPut CH1, OSN')\n",
    "# power_supply.write(':APPL Ch1,10,1')\n",
    "\n",
    "# power_supply.write(':OUTP CH1, OFF')"
   ]
  },
  {
   "cell_type": "code",
   "execution_count": 61,
   "id": "cc74814e-6ac3-4c95-b95b-cdf535f17585",
   "metadata": {},
   "outputs": [
    {
     "data": {
      "text/plain": [
       "17"
      ]
     },
     "execution_count": 61,
     "metadata": {},
     "output_type": "execute_result"
    }
   ],
   "source": [
    "power_supply.write(':OUTPut CH1, ON')\n",
    "# power_supply.write(':APPL Ch1,10,1')\n",
    "power_supply.write(':MEM:VAL? RSF,1')\n",
    "# power_supply.write(':OUTP CH1, OFF')"
   ]
  },
  {
   "cell_type": "code",
   "execution_count": 81,
   "id": "e4426b01-e550-4f63-88b1-94e67cf2bb29",
   "metadata": {},
   "outputs": [
    {
     "data": {
      "text/plain": [
       "16"
      ]
     },
     "execution_count": 81,
     "metadata": {},
     "output_type": "execute_result"
    }
   ],
   "source": [
    "# power_supply.write(':OUTPut CH1, ON')\n",
    "# power_supply.write(':APPL Ch1,10,0')\n",
    "power_supply.write(':OUTP CH1, OFF')"
   ]
  },
  {
   "cell_type": "code",
   "execution_count": null,
   "id": "ea728253-38b6-4983-aec5-cc2132dfaffa",
   "metadata": {},
   "outputs": [],
   "source": []
  },
  {
   "cell_type": "code",
   "execution_count": null,
   "id": "fd415247-4f53-4e8e-b4ea-c05bc56052b6",
   "metadata": {},
   "outputs": [],
   "source": []
  }
 ],
 "metadata": {
  "kernelspec": {
   "display_name": "Python 3",
   "language": "python",
   "name": "python3"
  },
  "language_info": {
   "codemirror_mode": {
    "name": "ipython",
    "version": 3
   },
   "file_extension": ".py",
   "mimetype": "text/x-python",
   "name": "python",
   "nbconvert_exporter": "python",
   "pygments_lexer": "ipython3",
   "version": "3.8.8"
  }
 },
 "nbformat": 4,
 "nbformat_minor": 5
}
