{
 "cells": [
  {
   "cell_type": "code",
   "execution_count": 1,
   "id": "87a73436-9f45-4503-ae51-362bd2642cf3",
   "metadata": {},
   "outputs": [],
   "source": [
    "import PySimpleGUI as sg\n",
    "import os.path\n",
    "import random"
   ]
  },
  {
   "cell_type": "code",
   "execution_count": 3,
   "id": "3549113b-8a39-4e8f-ae51-f4c535fecfd8",
   "metadata": {},
   "outputs": [
    {
     "ename": "KeyError",
     "evalue": "'Question'",
     "output_type": "error",
     "traceback": [
      "\u001b[1;31m---------------------------------------------------------------------------\u001b[0m",
      "\u001b[1;31mKeyError\u001b[0m                                  Traceback (most recent call last)",
      "\u001b[1;32m~\\AppData\\Local\\Temp/ipykernel_13140/1918688781.py\u001b[0m in \u001b[0;36m<module>\u001b[1;34m\u001b[0m\n\u001b[0;32m     20\u001b[0m     \u001b[0mevent\u001b[0m\u001b[1;33m,\u001b[0m \u001b[0mvalues\u001b[0m \u001b[1;33m=\u001b[0m \u001b[0mwindow\u001b[0m\u001b[1;33m.\u001b[0m\u001b[0mread\u001b[0m\u001b[1;33m(\u001b[0m\u001b[1;33m)\u001b[0m\u001b[1;33m\u001b[0m\u001b[1;33m\u001b[0m\u001b[0m\n\u001b[0;32m     21\u001b[0m     \u001b[0mwindow\u001b[0m\u001b[1;33m[\u001b[0m\u001b[1;34m'Question'\u001b[0m\u001b[1;33m]\u001b[0m\u001b[1;33m.\u001b[0m\u001b[0mupdate\u001b[0m\u001b[1;33m(\u001b[0m\u001b[0mstr\u001b[0m\u001b[1;33m(\u001b[0m\u001b[0mtext_q\u001b[0m\u001b[1;33m)\u001b[0m\u001b[1;33m)\u001b[0m\u001b[1;33m\u001b[0m\u001b[1;33m\u001b[0m\u001b[0m\n\u001b[1;32m---> 22\u001b[1;33m     \u001b[0mprint\u001b[0m\u001b[1;33m(\u001b[0m\u001b[0mvalues\u001b[0m\u001b[1;33m[\u001b[0m\u001b[1;34m'Question'\u001b[0m\u001b[1;33m]\u001b[0m\u001b[1;33m)\u001b[0m\u001b[1;33m\u001b[0m\u001b[1;33m\u001b[0m\u001b[0m\n\u001b[0m\u001b[0;32m     23\u001b[0m     \u001b[1;31m# See if user wants to quit or window was closed\u001b[0m\u001b[1;33m\u001b[0m\u001b[1;33m\u001b[0m\u001b[0m\n\u001b[0;32m     24\u001b[0m     \u001b[1;32mif\u001b[0m \u001b[0mevent\u001b[0m \u001b[1;33m==\u001b[0m \u001b[0msg\u001b[0m\u001b[1;33m.\u001b[0m\u001b[0mWINDOW_CLOSED\u001b[0m \u001b[1;32mor\u001b[0m \u001b[0mwindow\u001b[0m\u001b[1;33m[\u001b[0m\u001b[1;34m'Question'\u001b[0m\u001b[1;33m]\u001b[0m \u001b[1;33m==\u001b[0m \u001b[0mtext_a\u001b[0m\u001b[1;33m:\u001b[0m\u001b[1;33m\u001b[0m\u001b[1;33m\u001b[0m\u001b[0m\n",
      "\u001b[1;31mKeyError\u001b[0m: 'Question'"
     ]
    }
   ],
   "source": [
    "# Define the window's contents\n",
    "a = random.randint(0,100)\n",
    "b = random.randint(0,100)\n",
    "text_q=(str(a)+\"+\"+str(b))\n",
    "text_a=str(a+b)\n",
    "layout = [[sg.Text((text_q),key ='Question')],\n",
    "          [sg.Input(key='-INPUT-')],\n",
    "          [sg.Text(size=(40,2), key='JJ')],\n",
    "          [sg.Button('Ok'), sg.Button('Quit')]]\n",
    "\n",
    "# Create the window\n",
    "window = sg.Window('Window Title', layout)\n",
    "\n",
    "# Display and interact with the Window using an Event Loop\n",
    "while True:\n",
    "    a = random.randint(0,100)\n",
    "    b = random.randint(0,100)\n",
    "    text_q=(str(a)+\"+\"+str(b))\n",
    "    text_a=str(a+b)\n",
    "    event, values = window.read()\n",
    "    window['Question'].update(str(text_q))\n",
    "    print(values['Question'])\n",
    "    # See if user wants to quit or window was closed\n",
    "    if event == sg.WINDOW_CLOSED or window['Question'] == text_a:\n",
    "        window['JJ'].update('correct')\n",
    "    else:\n",
    "        break\n",
    "    # Output a message to the window\n",
    "    \n",
    "\n",
    "# Finish up by removing from the screen\n",
    "window.close()"
   ]
  },
  {
   "cell_type": "raw",
   "id": "2d8a407f-7117-4336-b8d2-cf2129349bdc",
   "metadata": {},
   "source": [
    "a = random.randint(0,100)\n",
    "b = random.randint(0,100)\n",
    "c = a+b\n",
    "d = a-b\n",
    "layout = [[sg.Text(str(a)+\"+\"+str(b))], [sg.Button(\"Exit\")], [sg.Button('Re')], [sg.Button(\"T1\")], [sg.Button(\"T2\")],\n",
    "         [sg.Text(size=(100,1), key=\"text_1\")]]\n",
    "\n",
    "# Create the window\n",
    "window = sg.Window(\"Plus quest\", layout, margins=(100, 50))\n",
    "\n",
    "# Create an event loop\n",
    "while True:\n",
    "    a = random.randint(0,100)\n",
    "    b = random.randint(0,100)\n",
    "    c = a+b\n",
    "    d = a-b\n",
    "    event, values = window.read()\n",
    "    \n",
    "    # End program if user closes window or presses the OK button\n",
    "    \n",
    "    if event == \"Exit\" or event == sg.WIN_CLOSED:\n",
    "        break\n",
    "    if event == 'Re' or event == sg.WIN_CLOSED:\n",
    "        window['T1'].update('correct answer is :' + str(c))\n",
    "\n",
    "\n",
    "window.close()"
   ]
  },
  {
   "cell_type": "code",
   "execution_count": 3,
   "id": "921cb395-7582-41e0-ad2a-7591a593ccc7",
   "metadata": {},
   "outputs": [
    {
     "name": "stdout",
     "output_type": "stream",
     "text": [
      "You entered  {0: '5', 1: '6', 2: '7', 3: '8'}\n",
      "26\n"
     ]
    }
   ],
   "source": [
    "import PySimpleGUI as sg\n",
    "\n",
    "sg.theme('DarkAmber')   # Add a touch of color\n",
    "# All the stuff inside your window.\n",
    "layout = [  [sg.Text('Some text on Row 1')],\n",
    "            [sg.Text('Enter something on Row 2'), sg.InputText(), sg.InputText()],\n",
    "            [sg.Text('Enter something on Row 3'), sg.InputText(), sg.InputText()],\n",
    "            [sg.Button('Ok'), sg.Button('Cancel')]  ]\n",
    "\n",
    "# Create the Window\n",
    "window = sg.Window('Window Title', layout)\n",
    "# Event Loop to process \"events\" and get the \"values\" of the inputs\n",
    "while True:\n",
    "    event, values = window.read()\n",
    "    if event == sg.WIN_CLOSED or event == 'Cancel': # if user closes window or clicks cancel\n",
    "        break\n",
    "    print('You entered ', values)\n",
    "    print(int(values[0])+int(values[1])+int(values[2])+int(values[3]))\n",
    "\n",
    "window.close()"
   ]
  },
  {
   "cell_type": "code",
   "execution_count": 8,
   "id": "52fb8c86-dfcf-4ee7-814b-b28af9f6b9ab",
   "metadata": {},
   "outputs": [
    {
     "data": {
      "text/plain": [
       "(None, None)"
      ]
     },
     "execution_count": 8,
     "metadata": {},
     "output_type": "execute_result"
    }
   ],
   "source": [
    "window.read()"
   ]
  },
  {
   "cell_type": "code",
   "execution_count": 7,
   "id": "d9633122-93a1-4c67-895a-8bc5b5a29c33",
   "metadata": {},
   "outputs": [],
   "source": [
    "file_list_column = [\n",
    "    [\n",
    "        sg.Text(\"Image Folder\"),\n",
    "        sg.In(size=(25, 1), enable_events=True, key=\"-FOLDER-\"),\n",
    "        sg.FolderBrowse(),\n",
    "    ],\n",
    "    [\n",
    "        sg.Listbox(\n",
    "            values=[], enable_events=True, size=(40, 20), key=\"-FILE LIST-\"\n",
    "        )\n",
    "    ],\n",
    "]\n",
    "\n",
    "# For now will only show the name of the file that was chosen\n",
    "image_viewer_column = [\n",
    "    [sg.Text(\"Choose an image from list on left:\")],\n",
    "    [sg.Text(size=(40, 1), key=\"-TOUT-\")],\n",
    "    [sg.Image(key=\"-IMAGE-\")],\n",
    "]\n",
    "\n",
    "# ----- Full layout -----\n",
    "layout = [\n",
    "    [\n",
    "        sg.Column(file_list_column),\n",
    "        sg.VSeperator(),\n",
    "        sg.Column(image_viewer_column),\n",
    "    ]\n",
    "]\n",
    "\n",
    "window = sg.Window(\"Image Viewer\", layout)\n",
    "\n",
    "# Run the Event Loop\n",
    "while True:\n",
    "    event, values = window.read()\n",
    "    if event == \"Exit\" or event == sg.WIN_CLOSED:\n",
    "        break\n",
    "    # Folder name was filled in, make a list of files in the folder\n",
    "    if event == \"-FOLDER-\":\n",
    "        folder = values[\"-FOLDER-\"]\n",
    "        try:\n",
    "            # Get list of files in folder\n",
    "            file_list = os.listdir(folder)\n",
    "        except:\n",
    "            file_list = []\n",
    "\n",
    "        fnames = [\n",
    "            f\n",
    "            for f in file_list\n",
    "            if os.path.isfile(os.path.join(folder, f))\n",
    "            and f.lower().endswith((\".png\", \".gif\"))\n",
    "        ]\n",
    "        window[\"-FILE LIST-\"].update(fnames)\n",
    "    elif event == \"-FILE LIST-\":  # A file was chosen from the listbox\n",
    "        try:\n",
    "            filename = os.path.join(\n",
    "                values[\"-FOLDER-\"], values[\"-FILE LIST-\"][0]\n",
    "            )\n",
    "            window[\"-TOUT-\"].update(filename)\n",
    "            window[\"-IMAGE-\"].update(filename=filename)\n",
    "\n",
    "        except:\n",
    "            pass\n",
    "\n",
    "window.close()"
   ]
  },
  {
   "cell_type": "code",
   "execution_count": null,
   "id": "1cf8cd40-8a59-49d2-ae6c-1099d37ffb43",
   "metadata": {},
   "outputs": [],
   "source": []
  }
 ],
 "metadata": {
  "kernelspec": {
   "display_name": "Python 3",
   "language": "python",
   "name": "python3"
  },
  "language_info": {
   "codemirror_mode": {
    "name": "ipython",
    "version": 3
   },
   "file_extension": ".py",
   "mimetype": "text/x-python",
   "name": "python",
   "nbconvert_exporter": "python",
   "pygments_lexer": "ipython3",
   "version": "3.8.8"
  }
 },
 "nbformat": 4,
 "nbformat_minor": 5
}
